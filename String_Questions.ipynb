{
  "nbformat": 4,
  "nbformat_minor": 0,
  "metadata": {
    "colab": {
      "provenance": []
    },
    "kernelspec": {
      "name": "python3",
      "display_name": "Python 3"
    },
    "language_info": {
      "name": "python"
    }
  },
  "cells": [
    {
      "cell_type": "markdown",
      "source": [
        "# String Questions"
      ],
      "metadata": {
        "id": "-rRxs755VKhA"
      }
    },
    {
      "cell_type": "code",
      "execution_count": null,
      "metadata": {
        "colab": {
          "base_uri": "https://localhost:8080/"
        },
        "id": "7QNhvyr10tEC",
        "outputId": "e697368f-fd64-43cd-83ee-ce37e1ad236f"
      },
      "outputs": [
        {
          "name": "stdout",
          "output_type": "stream",
          "text": [
            "5\n",
            "Harsh\n",
            "20\n",
            "Beria\n",
            "20\n",
            "Varun\n",
            "19\n",
            "Kakunami\n",
            "19\n",
            "Vikas\n",
            "21\n"
          ]
        }
      ],
      "source": [
        "student = []\n",
        "for _ in range(int(input())):\n",
        "    name = input()\n",
        "    score = float(input())\n",
        "    student.append([name,score])"
      ]
    },
    {
      "cell_type": "code",
      "source": [
        "# extract all scores, remove duplicates, sort ascending\n",
        "marks = sorted({s[1] for s in student})\n",
        "sec_low = marks[1]   # 2nd lowest\n",
        "\n",
        "# get all names with that score\n",
        "names = sorted([s[0] for s in student if s[1] == sec_low])\n",
        "\n",
        "#printing name of students\n",
        "for i in names:\n",
        "  print(i)\n"
      ],
      "metadata": {
        "colab": {
          "base_uri": "https://localhost:8080/"
        },
        "id": "HmYk6sDo95YU",
        "outputId": "7e5a76f5-c7d6-4159-9205-7eb59f558a34"
      },
      "execution_count": null,
      "outputs": [
        {
          "output_type": "stream",
          "name": "stdout",
          "text": [
            "Beria\n",
            "Harsh\n"
          ]
        }
      ]
    },
    {
      "cell_type": "markdown",
      "source": [
        "# Welcome Door Mat Problem"
      ],
      "metadata": {
        "id": "f50ktnA4-3lc"
      }
    },
    {
      "cell_type": "code",
      "source": [
        "#take input from the user\n",
        "n, m = map(int, input().split())"
      ],
      "metadata": {
        "colab": {
          "base_uri": "https://localhost:8080/"
        },
        "id": "waUQNRvU-QYa",
        "outputId": "b33ab29a-505d-48b9-a1e3-0847f11d833c"
      },
      "execution_count": null,
      "outputs": [
        {
          "name": "stdout",
          "output_type": "stream",
          "text": [
            "13 39\n"
          ]
        }
      ]
    },
    {
      "cell_type": "code",
      "source": [
        "#Upper Logic\n",
        "upper_symbol = 1\n",
        "for i in range(n//2,0,-1):\n",
        "  print('-'*(3*i), end='')\n",
        "  print('.|.'*upper_symbol, end='')\n",
        "  print('-'*(3*i))\n",
        "\n",
        "  upper_symbol+=2\n",
        "\n",
        "Wel_ = int((3*n -7)/2)\n",
        "#Welcome Print\n",
        "print('-'*Wel_,end='')\n",
        "print('WELCOME',end='')\n",
        "print('-'*Wel_)\n",
        "\n",
        "\n",
        "#lower Logic\n",
        "lower_symbol=upper_symbol-2\n",
        "for j in range(1,n//2+1):\n",
        "  print('-'*(3*j), end='')\n",
        "  print('.|.'*lower_symbol, end='')\n",
        "  print('-'*(3*j))\n",
        "\n",
        "  lower_symbol-=2"
      ],
      "metadata": {
        "colab": {
          "base_uri": "https://localhost:8080/"
        },
        "id": "zHarl1K6BE9h",
        "outputId": "d964251b-82ea-48fc-93b7-9fa255cf755a"
      },
      "execution_count": null,
      "outputs": [
        {
          "output_type": "stream",
          "name": "stdout",
          "text": [
            "------------------.|.------------------\n",
            "---------------.|..|..|.---------------\n",
            "------------.|..|..|..|..|.------------\n",
            "---------.|..|..|..|..|..|..|.---------\n",
            "------.|..|..|..|..|..|..|..|..|.------\n",
            "---.|..|..|..|..|..|..|..|..|..|..|.---\n",
            "----------------WELCOME----------------\n",
            "---.|..|..|..|..|..|..|..|..|..|..|.---\n",
            "------.|..|..|..|..|..|..|..|..|.------\n",
            "---------.|..|..|..|..|..|..|.---------\n",
            "------------.|..|..|..|..|.------------\n",
            "---------------.|..|..|.---------------\n",
            "------------------.|.------------------\n"
          ]
        }
      ]
    },
    {
      "cell_type": "markdown",
      "source": [
        "# Largest Odd Number in a String"
      ],
      "metadata": {
        "id": "Pecnc1vTI0m2"
      }
    },
    {
      "cell_type": "code",
      "source": [
        "def largeOddNum(s):\n",
        "\n",
        "  #Finding the last odd number\n",
        "  last = 0\n",
        "  for i in range(len(s)-1,-1,-1):\n",
        "    if int(s[i])%2==1:\n",
        "      last = i\n",
        "      break\n",
        "\n",
        "  if last==0:\n",
        "    return ''\n",
        "\n",
        "  first = 0\n",
        "  while first<len(s):\n",
        "    if s[first]!= '0':\n",
        "      break\n",
        "    else:\n",
        "      first+=1\n",
        "\n",
        "  return s[first:last+1]\n"
      ],
      "metadata": {
        "id": "gsR8EOwgBMMk"
      },
      "execution_count": null,
      "outputs": []
    },
    {
      "cell_type": "code",
      "source": [
        "s = '10000000'"
      ],
      "metadata": {
        "id": "G_eR_NJlPM0G"
      },
      "execution_count": null,
      "outputs": []
    },
    {
      "cell_type": "code",
      "source": [
        "largeOddNum(s)"
      ],
      "metadata": {
        "colab": {
          "base_uri": "https://localhost:8080/",
          "height": 37
        },
        "id": "9v6TfFx_PRF-",
        "outputId": "50050852-a971-4e17-ea33-d32dc00f0a16"
      },
      "execution_count": null,
      "outputs": [
        {
          "output_type": "execute_result",
          "data": {
            "text/plain": [
              "''"
            ],
            "application/vnd.google.colaboratory.intrinsic+json": {
              "type": "string"
            }
          },
          "metadata": {},
          "execution_count": 91
        }
      ]
    },
    {
      "cell_type": "markdown",
      "source": [
        "# Longest Common Prefix"
      ],
      "metadata": {
        "id": "PRy-HFE3ie52"
      }
    },
    {
      "cell_type": "markdown",
      "source": [
        "**My version**"
      ],
      "metadata": {
        "id": "KOIau2KzspTr"
      }
    },
    {
      "cell_type": "code",
      "source": [
        "def longestCommonPrefix(st):\n",
        "  #sort the list - N Log(N)\n",
        "  st.sort()\n",
        "\n",
        "  #storing prefix values\n",
        "  prefix=''\n",
        "\n",
        "  #Find the first and last string values - N Log(N)\n",
        "  for i in range(0,len(st[-1])):\n",
        "    if st[0][i] == st[-1][i]:\n",
        "      prefix+=st[0][i]\n",
        "    else:\n",
        "      break\n",
        "\n",
        "  return prefix"
      ],
      "metadata": {
        "id": "KT2OceywPSpN"
      },
      "execution_count": null,
      "outputs": []
    },
    {
      "cell_type": "code",
      "source": [
        "st = [\"flowers\" , \"flow\" , \"fly\", \"flight\"]\n",
        "longestCommonPrefix(st)"
      ],
      "metadata": {
        "colab": {
          "base_uri": "https://localhost:8080/",
          "height": 37
        },
        "id": "cPsALrcgj4O7",
        "outputId": "515264db-f86d-4210-c8aa-81947b29db3e"
      },
      "execution_count": null,
      "outputs": [
        {
          "output_type": "execute_result",
          "data": {
            "text/plain": [
              "'fl'"
            ],
            "application/vnd.google.colaboratory.intrinsic+json": {
              "type": "string"
            }
          },
          "metadata": {},
          "execution_count": 19
        }
      ]
    },
    {
      "cell_type": "markdown",
      "source": [
        "**ChatGPT and TUF**"
      ],
      "metadata": {
        "id": "93rvoFHwsrmT"
      }
    },
    {
      "cell_type": "code",
      "source": [
        "def longestCommonPrefix_1(st):\n",
        "  # Edge case: empty list\n",
        "  if not st:\n",
        "    return \"\"\n",
        "\n",
        "  # sort the list\n",
        "  st.sort()\n",
        "\n",
        "  # get first and last string\n",
        "  first, last = st[0], st[-1]\n",
        "  prefix = ''\n",
        "\n",
        "  # loop only till min length of first and last\n",
        "  for i in range(min(len(first), len(last))):\n",
        "    if first[i] == last[i]:\n",
        "      prefix += first[i]\n",
        "    else:\n",
        "      break\n",
        "\n",
        "  return prefix\n"
      ],
      "metadata": {
        "id": "6G2n4DNQkBLn"
      },
      "execution_count": null,
      "outputs": []
    },
    {
      "cell_type": "code",
      "source": [
        "longestCommonPrefix_1(st)"
      ],
      "metadata": {
        "id": "k-9MiR9Ys-HM",
        "outputId": "f2ac623c-7539-4c49-a25c-badf47a06c00",
        "colab": {
          "base_uri": "https://localhost:8080/",
          "height": 37
        }
      },
      "execution_count": null,
      "outputs": [
        {
          "output_type": "execute_result",
          "data": {
            "text/plain": [
              "'fl'"
            ],
            "application/vnd.google.colaboratory.intrinsic+json": {
              "type": "string"
            }
          },
          "metadata": {},
          "execution_count": 23
        }
      ]
    },
    {
      "cell_type": "code",
      "source": [
        "list1 = ['a','a','b']\n",
        "list1 = set(list1)\n",
        "len(list1)"
      ],
      "metadata": {
        "colab": {
          "base_uri": "https://localhost:8080/"
        },
        "id": "YVZoMRxtuO8x",
        "outputId": "438b8ae2-f045-4871-eb57-a65459b8a36e"
      },
      "execution_count": null,
      "outputs": [
        {
          "output_type": "execute_result",
          "data": {
            "text/plain": [
              "2"
            ]
          },
          "metadata": {},
          "execution_count": 7
        }
      ]
    },
    {
      "cell_type": "markdown",
      "source": [
        "# Isomorphic String"
      ],
      "metadata": {
        "id": "4MYmt8jptvID"
      }
    },
    {
      "cell_type": "code",
      "source": [
        "def isomorphic(s1,s2):\n",
        "  Lst1 = []\n",
        "  Lst2 = []\n",
        "  Lst3 = []\n",
        "  Lst4 = []\n",
        "\n",
        "  #finding unique values\n",
        "  for i in s1:\n",
        "    Lst1.append(i)\n",
        "\n",
        "  #Converting list to set\n",
        "  Lst3=set(Lst1)\n",
        "\n",
        "  for j in s2:\n",
        "    Lst2.append(j)\n",
        "\n",
        "  #Converting list to set\n",
        "  Lst4=set(Lst2)\n",
        "\n",
        "  if len(Lst3)!=len(Lst4):\n",
        "    return 'False'\n",
        "\n",
        "  Total1, Total2 = 0,0\n",
        "\n",
        "  for a in Lst3:\n",
        "    Total1+=Lst1.count(a)\n",
        "\n",
        "  for b in Lst4:\n",
        "    Total2+=Lst2.count(b)\n",
        "\n",
        "  if Total1==Total2:\n",
        "    return True\n",
        "  else:\n",
        "    return False"
      ],
      "metadata": {
        "id": "aiHpnFFzs_QL"
      },
      "execution_count": null,
      "outputs": []
    },
    {
      "cell_type": "code",
      "source": [
        "s = \"apple\"\n",
        "t = \"bbnbm\"\n",
        "isomorphic(s,t)"
      ],
      "metadata": {
        "colab": {
          "base_uri": "https://localhost:8080/",
          "height": 38
        },
        "id": "v2OazGQKwTPK",
        "outputId": "78d14172-66ff-4f6d-c3f4-2c68df2d86d9"
      },
      "execution_count": null,
      "outputs": [
        {
          "output_type": "execute_result",
          "data": {
            "text/plain": [
              "'False'"
            ],
            "application/vnd.google.colaboratory.intrinsic+json": {
              "type": "string"
            }
          },
          "metadata": {},
          "execution_count": 20
        }
      ]
    },
    {
      "cell_type": "code",
      "source": [
        "ord('a')"
      ],
      "metadata": {
        "colab": {
          "base_uri": "https://localhost:8080/"
        },
        "id": "fNBeyETVyP7u",
        "outputId": "ae334dc8-9a7a-4336-9dd5-d07b177f4750"
      },
      "execution_count": null,
      "outputs": [
        {
          "output_type": "execute_result",
          "data": {
            "text/plain": [
              "97"
            ]
          },
          "metadata": {},
          "execution_count": 24
        }
      ]
    },
    {
      "cell_type": "code",
      "source": [
        "def isomorph(s1,s2):\n",
        "\n",
        "  #Condition\n",
        "  if len(s1)!=len(s2):\n",
        "    return False\n",
        "\n",
        "  #create a map function\n",
        "  pair = list(zip(s1,s2))\n",
        "\n",
        "  #finding unique values of s1 and s2\n",
        "  U1 = set(s1)\n",
        "  U2 = set(s2)\n",
        "\n",
        "  return len(set(pair))==len(U1)==len(U2)\n"
      ],
      "metadata": {
        "id": "Ztue370g6dRW"
      },
      "execution_count": null,
      "outputs": []
    },
    {
      "cell_type": "code",
      "source": [
        "isomorph(s,t)"
      ],
      "metadata": {
        "colab": {
          "base_uri": "https://localhost:8080/"
        },
        "id": "DuBlkUgc_BMF",
        "outputId": "9fee9139-acc0-4a5b-8931-e2530f5bfed9"
      },
      "execution_count": null,
      "outputs": [
        {
          "output_type": "execute_result",
          "data": {
            "text/plain": [
              "False"
            ]
          },
          "metadata": {},
          "execution_count": 35
        }
      ]
    },
    {
      "cell_type": "markdown",
      "source": [
        "Rotate String"
      ],
      "metadata": {
        "id": "ie3FsDopsEC6"
      }
    },
    {
      "cell_type": "code",
      "source": [
        "def rotateString(s, goal):\n",
        "  for i in range(len(s)):\n",
        "      if goal==s[i:] + s[:i]:\n",
        "        return True\n",
        "      else:\n",
        "        return False"
      ],
      "metadata": {
        "id": "L21ne_VF_FM8"
      },
      "execution_count": null,
      "outputs": []
    },
    {
      "cell_type": "code",
      "source": [
        "rotateString('abcde','cdeab')"
      ],
      "metadata": {
        "colab": {
          "base_uri": "https://localhost:8080/"
        },
        "id": "OBJ-gsHNtMCU",
        "outputId": "b4ca68d1-687a-4d64-8523-9ab6b8f7a0ad"
      },
      "execution_count": null,
      "outputs": [
        {
          "output_type": "execute_result",
          "data": {
            "text/plain": [
              "False"
            ]
          },
          "metadata": {},
          "execution_count": 13
        }
      ]
    },
    {
      "cell_type": "markdown",
      "source": [
        "Valid Anagram"
      ],
      "metadata": {
        "id": "YQ2mk113v8eB"
      }
    },
    {
      "cell_type": "code",
      "source": [
        "def anagramStrings(s, t):\n",
        "  #Finding Unique words using set\n",
        "  Unique_word_s = list(set(s))\n",
        "  Unique_word_t = list(set(t))\n",
        "\n",
        "  #Finding Unique words frequencey\n",
        "  for i in Unique_word_s:\n",
        "    Alpha_s = s.count(i)\n",
        "    Alpha_t = t.count(i)\n",
        "    if Alpha_s==Alpha_t :\n",
        "      continue\n",
        "    else:\n",
        "      return False\n",
        "  else:\n",
        "    return True"
      ],
      "metadata": {
        "id": "DY7PmXFjtSSN"
      },
      "execution_count": null,
      "outputs": []
    },
    {
      "cell_type": "code",
      "source": [
        "anagramStrings('dog','cat')"
      ],
      "metadata": {
        "colab": {
          "base_uri": "https://localhost:8080/"
        },
        "id": "bwhMHhK4yRvA",
        "outputId": "f267e844-8de0-435b-8dae-124496aaa3f8"
      },
      "execution_count": null,
      "outputs": [
        {
          "output_type": "execute_result",
          "data": {
            "text/plain": [
              "False"
            ]
          },
          "metadata": {},
          "execution_count": 39
        }
      ]
    },
    {
      "cell_type": "markdown",
      "source": [
        "Another Easy Solution"
      ],
      "metadata": {
        "id": "E413YBxS5cru"
      }
    },
    {
      "cell_type": "code",
      "source": [
        "def anagramStrings(self, s, t):\n",
        "  # If lengths are not equal, they cannot be anagrams\n",
        "  if len(s) != len(t):\n",
        "    return False\n",
        "\n",
        "  # Sort both strings and compare\n",
        "  return sorted(s) == sorted(t)"
      ],
      "metadata": {
        "id": "Xo7arXiz5Ylg"
      },
      "execution_count": null,
      "outputs": []
    },
    {
      "cell_type": "markdown",
      "source": [
        "Sort Characters by Frequency"
      ],
      "metadata": {
        "id": "q_ZxRQZf5-sY"
      }
    },
    {
      "cell_type": "code",
      "source": [
        "def frequencySort(s):\n",
        "  Char_count = {}\n",
        "  Char = list(set(s))\n",
        "  for i in Char:\n",
        "    Char_count[i] = s.count(i)\n",
        "\n",
        "  return list(Char_count.keys())"
      ],
      "metadata": {
        "id": "aZDQgV8z5_Z-"
      },
      "execution_count": null,
      "outputs": []
    },
    {
      "cell_type": "code",
      "source": [
        "frequencySort('tree')"
      ],
      "metadata": {
        "colab": {
          "base_uri": "https://localhost:8080/"
        },
        "id": "XZdlKAELON8_",
        "outputId": "c8d637b9-f684-46a0-dd87-9a958177e5fe"
      },
      "execution_count": null,
      "outputs": [
        {
          "output_type": "execute_result",
          "data": {
            "text/plain": [
              "['e', 'r', 't']"
            ]
          },
          "metadata": {},
          "execution_count": 65
        }
      ]
    },
    {
      "cell_type": "code",
      "source": [
        "from collections import Counter\n",
        "freq = Counter(\"tree\")\n",
        "freq"
      ],
      "metadata": {
        "colab": {
          "base_uri": "https://localhost:8080/"
        },
        "id": "H3C0FJQmORfW",
        "outputId": "dc0f1626-a11f-4ae6-c2d8-d73caf3ebc5a"
      },
      "execution_count": null,
      "outputs": [
        {
          "output_type": "execute_result",
          "data": {
            "text/plain": [
              "Counter({'t': 1, 'r': 1, 'e': 2})"
            ]
          },
          "metadata": {},
          "execution_count": 66
        }
      ]
    },
    {
      "cell_type": "markdown",
      "source": [
        "Answer"
      ],
      "metadata": {
        "id": "cnOloOPpULFf"
      }
    },
    {
      "cell_type": "code",
      "source": [
        "def frequencySort(s):\n",
        "    freq = Counter(s)\n",
        "    return ''.join([char * freq[char] for char in sorted(freq, key=lambda x: -freq[x])])\n",
        "\n",
        "print(frequencySort(\"tree\"))\n",
        "# Output: \"eert\" or \"eetr\"\n"
      ],
      "metadata": {
        "id": "My3HSSwdS7ey"
      },
      "execution_count": null,
      "outputs": []
    }
  ]
}